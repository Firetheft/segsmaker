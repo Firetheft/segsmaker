{
 "cells": [
  {
   "cell_type": "markdown",
   "id": "e778e3d1-ba42-456a-9180-1af321ab219a",
   "metadata": {
    "tags": []
   },
   "source": [
    "<center><span style=\"font-size: 24px;font-weight: bold\">Forge In SageMaker Studio Lab Notebook 1.0</span></center>\n",
    "<center>请收藏我的<a href=\"www.disambo.com\"> 个人网站 </a>，如果用的愉快可以来<a href=\"https://afdian.net/a/disambo\"> 爱发电 </a>给我买杯咖啡，谢谢！</center>\n",
    "<hr>"
   ]
  },
  {
   "cell_type": "markdown",
   "id": "26786ea3-e294-44b6-900a-798b0880de76",
   "metadata": {
    "tags": []
   },
   "source": [
    "## ```Conda``` <span style=\"color:#ff7171; font-size: 14px;\">安装部署</span>"
   ]
  },
  {
   "cell_type": "code",
   "execution_count": null,
   "id": "9dccb75e-fb59-4573-9955-4c334bba607b",
   "metadata": {
    "tags": [],
    "vscode": {
     "languageId": "python"
    }
   },
   "outputs": [],
   "source": [
    "!curl -sLo ~/.conda/conda_install.py https://github.com/Firetheft/segsmaker/raw/main/script/conda1.py\n",
    "%run ~/.conda/conda_install.py"
   ]
  },
  {
   "cell_type": "markdown",
   "id": "011fac09-3453-4fea-bad6-da971f037c3b",
   "metadata": {
    "tags": []
   },
   "source": [
    "## ```Forge``` <span style=\"color:#ff7171; font-size: 14px;\">安装部署</span>"
   ]
  },
  {
   "cell_type": "code",
   "execution_count": null,
   "id": "598827fd-7cf0-4d73-b982-c417916b7e96",
   "metadata": {
    "tags": [],
    "vscode": {
     "languageId": "python"
    }
   },
   "outputs": [],
   "source": [
    "%say 【 {green} 开始安装 Stable Diffusion Webui Forge {d} 】 {green}\n",
    "%cd -q ~\n",
    "!git clone -q https://github.com/lllyasviel/stable-diffusion-webui-forge\n",
    "%cd -q ~/stable-diffusion-webui-forge\n",
    "!pip install -q -r requirements.txt\n",
    "%pull https://github.com/Firetheft/segsmaker fr ~/stable-diffusion-webui-forge\n",
    "!python ~/stable-diffusion-webui-forge/forge/fr.py > /dev/null\n",
    "%download ~/stable-diffusion-webui-forge/forge/fr.txt\n",
    "''' 安装插件 '''\n",
    "%cd -q ~/stable-diffusion-webui-forge/extensions\n",
    "%clone ~/stable-diffusion-webui-forge/forge/extension.txt\n",
    "# 如需其他插件可按下面格式添加（注意删除#号启用，反之添加#号禁用！这个基本操作适用下面的模型下载等，不再赘述。）\n",
    "#!git clone --depth 1 https://github.com/mcmonkeyprojects/sd-dynamic-thresholding 1sd-dynamic-thresholding\n",
    "!rm -rf ~/.cache/*\n",
    "%say 【 {green} 安装完成！ {d} 】 {greenn}"
   ]
  },
  {
   "cell_type": "markdown",
   "id": "d2258945-4290-45f9-9d2b-6e776d393a86",
   "metadata": {},
   "source": [
    "## ```ControlNET``` <span style=\"color:#ff7171; font-size: 14px;\">临时文件</span>"
   ]
  },
  {
   "cell_type": "code",
   "execution_count": null,
   "id": "6b2c512d-cadd-4d7e-a88b-482e27a416b5",
   "metadata": {
    "vscode": {
     "languageId": "python"
    }
   },
   "outputs": [],
   "source": [
    "%tempe\n",
    "%cd -q ~/stable-diffusion-webui-forge/models/ControlNet\n",
    "%run ~/stable-diffusion-webui-forge/forge/controlnet.py"
   ]
  },
  {
   "cell_type": "markdown",
   "id": "e1686fb4-1cf7-4abf-bdef-f742beb84e0c",
   "metadata": {
    "tags": []
   },
   "source": [
    "## ```Checkpoint``` <span style=\"color:#ff7171; font-size: 14px;\">下载</span>"
   ]
  },
  {
   "cell_type": "code",
   "execution_count": null,
   "id": "07448e32-6837-44db-bef3-4dd8217e538e",
   "metadata": {
    "tags": [],
    "vscode": {
     "languageId": "python"
    }
   },
   "outputs": [],
   "source": [
    "''' 常驻模型（空间有限建议一个就行） '''\n",
    "%cd -q ~/stable-diffusion-webui-forge/models/Stable-diffusion\n",
    "%download https://civitai.com/api/download/models/288982 juggernautXL_v8Rundiffusion.safetensors\n",
    "\n",
    "''' 临时模型 '''\n",
    "%tempe\n",
    "%cd -q ~/stable-diffusion-webui-forge/models/Stable-diffusion/tmp_models\n",
    "%download https://huggingface.co/RunDiffusion/Juggernaut-XL-v6/resolve/main/juggernautXL_version6Rundiffusion.safetensors juggernautXL_version6Rundiffusion.safetensors\n",
    "#%download https://huggingface.co/RunDiffusion/Juggernaut-XL-v7/resolve/main/juggernautXL_v7Rundiffusion.safetensors juggernautXL_v7Rundiffusion.safetensors\n",
    "#%download https://huggingface.co/RunDiffusion/Juggernaut-XL-v8/resolve/main/juggernautXL_v8Rundiffusion.safetensors juggernautXL_v8Rundiffusion.safetensors\n",
    "#%download https://huggingface.co/RunDiffusion/Juggernaut-XL-v9/resolve/main/Juggernaut-XL_v9_RunDiffusionPhoto_v2.safetensors juggernautXL_v9Rundiffusionphoto2.safetensors\n",
    "#%download https://huggingface.co/RunDiffusion/Juggernaut-XL-Lightning/resolve/main/Juggernaut_RunDiffusionPhoto2_Lightning_4Steps.safetensors Juggernaut_RunDiffusionPhoto2_Lightning_4Steps.safetensors"
   ]
  },
  {
   "cell_type": "markdown",
   "id": "1b8ec6f5",
   "metadata": {},
   "source": [
    "## ```SVD``` <span style=\"color:#ff7171; font-size: 14px;\">下载</span>"
   ]
  },
  {
   "cell_type": "code",
   "execution_count": null,
   "id": "5c21a50c",
   "metadata": {
    "vscode": {
     "languageId": "python"
    }
   },
   "outputs": [],
   "source": [
    "''' 常驻SVD '''\n",
    "%cd -q ~/stable-diffusion-webui-forge/models/svd\n",
    "#%download https://huggingface.co/stabilityai/stable-video-diffusion-img2vid-xt-1-1/resolve/main/svd_xt_1_1.safetensors svd_xt_1_1.safetensors\n",
    "\n",
    "''' 临时SVD '''\n",
    "%tempe\n",
    "%cd -q ~/stable-diffusion-webui-forge/models/svd/tmp_svd\n",
    "%download https://huggingface.co/stabilityai/stable-video-diffusion-img2vid-xt-1-1/resolve/main/svd_xt_1_1.safetensors svd_xt_1_1.safetensors"
   ]
  },
  {
   "cell_type": "markdown",
   "id": "8bc20e56-9ba4-48ac-bdfc-17179a747ee8",
   "metadata": {
    "tags": []
   },
   "source": [
    "## ```Lora``` <span style=\"color:#ff7171; font-size: 14px;\">下载</span>"
   ]
  },
  {
   "cell_type": "code",
   "execution_count": null,
   "id": "936784d0-67c8-442c-aa3a-ee3456f8f4bb",
   "metadata": {
    "tags": [],
    "vscode": {
     "languageId": "python"
    }
   },
   "outputs": [],
   "source": [
    "''' 常驻Lora '''\n",
    "%cd -q ~/stable-diffusion-webui-forge/models/Lora\n",
    "%download https://huggingface.co/Linaqruf/style-enhancer-xl-lora/resolve/main/style-enhancer-xl.safetensors style-enhancer-xl.safetensors\n",
    "\n",
    "''' 临时Lora '''\n",
    "%tempe\n",
    "%cd -q ~/stable-diffusion-webui-forge/models/Lora/tmp_Lora\n",
    "%download https://huggingface.co/Linaqruf/anime-detailer-xl-lora/resolve/main/anime-detailer-xl.safetensors anime-detailer-xl.safetensors"
   ]
  },
  {
   "cell_type": "markdown",
   "id": "b4b19ba2-ae2b-481b-9b39-be6eac7a0f77",
   "metadata": {
    "tags": []
   },
   "source": [
    "## ```Forge``` <span style=\"color:#ff7171; font-size: 14px;\">启动</span>"
   ]
  },
  {
   "cell_type": "code",
   "execution_count": null,
   "id": "4c526d1d-ab28-47ef-9c51-6d3a7b944863",
   "metadata": {
    "tags": [],
    "vscode": {
     "languageId": "python"
    }
   },
   "outputs": [],
   "source": [
    "''' run this cell once to install ZROK and register an account '''\n",
    "%cd -q ~\n",
    "!python ~/stable-diffusion-webui-forge/forge/zorok.py"
   ]
  },
  {
   "cell_type": "code",
   "execution_count": null,
   "id": "4cffd230-2fd0-49b2-a91d-eb5b826be801",
   "metadata": {
    "tags": [],
    "vscode": {
     "languageId": "python"
    }
   },
   "outputs": [],
   "source": [
    "token = \"YOUR_ZROK_TOKEN\"\n",
    "\n",
    "%cd -q ~/stable-diffusion-webui-forge\n",
    "!python zrun.py {token} --xformers --theme dark"
   ]
  },
  {
   "cell_type": "code",
   "execution_count": null,
   "id": "b26de0d2-68ad-43e3-adaa-c4bac93d06a7",
   "metadata": {
    "vscode": {
     "languageId": "python"
    }
   },
   "outputs": [],
   "source": [
    "token = \"YOUR_NGROK_TOKEN\"\n",
    "\n",
    "%tempe\n",
    "%cd -q ~/stable-diffusion-webui-forge\n",
    "!python launch.py --ngrok {token} --xformers --theme dark"
   ]
  },
  {
   "cell_type": "markdown",
   "id": "967e929a-ca16-4682-be96-6d412f91d4c4",
   "metadata": {
    "jp-MarkdownHeadingCollapsed": true,
    "tags": []
   },
   "source": [
    "## ```Extras``` <span style=\"color:#ff7171; font-size: 14px;\">附加功能</span>\n",
    "<hr>"
   ]
  },
  {
   "cell_type": "markdown",
   "id": "89f767e5-2ab8-41b0-81ed-8fda5af53342",
   "metadata": {
    "tags": []
   },
   "source": [
    "#### ```zip``` <span style=\"color:#ff7171; font-size: 14px;\">压缩输出图片</span>"
   ]
  },
  {
   "cell_type": "code",
   "execution_count": null,
   "id": "9db284a0-5fd4-4265-99fd-26006a870eb8",
   "metadata": {
    "tags": [],
    "vscode": {
     "languageId": "python"
    }
   },
   "outputs": [],
   "source": [
    "%%zipping\n",
    "\n",
    "input_folder  = '/home/studio-lab-user/stable-diffusion-webui-forge/outputs'\n",
    "output_folder = '/home/studio-lab-user'"
   ]
  },
  {
   "cell_type": "markdown",
   "id": "6b74f461-3a60-44fe-8d96-b6fe2f0105a5",
   "metadata": {
    "id": "bf5499c3-18fb-4325-8c37-5298751e4f97",
    "tags": []
   },
   "source": [
    "#### ```Storage``` <span style=\"color:#ff7171; font-size: 14px;\">储存设置</span>"
   ]
  },
  {
   "cell_type": "code",
   "execution_count": null,
   "id": "fe9b41c3-932e-442c-9d5e-d43b83a8096d",
   "metadata": {
    "tags": [],
    "vscode": {
     "languageId": "python"
    }
   },
   "outputs": [],
   "source": [
    "''' 检查储存空间 '''\n",
    "!rm -rf ~/.cache/*\n",
    "%storage /home/studio-lab-user"
   ]
  },
  {
   "cell_type": "code",
   "execution_count": null,
   "id": "9951220b-4c44-4e52-80db-9fe37ab3a6f2",
   "metadata": {
    "tags": [],
    "vscode": {
     "languageId": "python"
    }
   },
   "outputs": [],
   "source": [
    "''' 删除output images '''\n",
    "!rm -rf ~/stable-diffusion-webui-forge/outputs/* ~/.cache/*"
   ]
  },
  {
   "cell_type": "code",
   "execution_count": null,
   "id": "ad29fba3-221f-4748-a0c1-9fef2c745c3f",
   "metadata": {
    "tags": [],
    "vscode": {
     "languageId": "python"
    }
   },
   "outputs": [],
   "source": [
    "''' 删除Forge '''\n",
    "%cd -q ~\n",
    "!rm -rf ~/tmp/* ~/stable-diffusion-webui-forge ~/tmp ~/.cache/*"
   ]
  },
  {
   "cell_type": "code",
   "execution_count": null,
   "id": "9e058676-e9cc-4a39-aeae-c86852d44f5e",
   "metadata": {
    "tags": [],
    "vscode": {
     "languageId": "python"
    }
   },
   "outputs": [],
   "source": [
    "''' 删除所有文件 , 重启笔记本！ '''\n",
    "%delete /home/studio-lab-user"
   ]
  }
 ],
 "metadata": {
  "kernelspec": {
   "display_name": "",
   "name": ""
  },
  "language_info": {
   "name": ""
  }
 },
 "nbformat": 4,
 "nbformat_minor": 5
}
