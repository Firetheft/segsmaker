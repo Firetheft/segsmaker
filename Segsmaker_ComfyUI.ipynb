{
 "cells": [
  {
   "cell_type": "markdown",
   "id": "b6f1eec1-3cc5-4fa1-95ab-ef38e9785d60",
   "metadata": {},
   "source": [
    "<center><span style=\"font-size: 24px;font-weight: bold\">ComfyUI In SageMaker Studio Lab Notebook 1.0</span></center>\n",
    "<center>请收藏我的<a href=\"www.disambo.com\"> 个人网站 </a>，如果用的愉快可以来<a href=\"https://afdian.net/a/disambo\"> 爱发电 </a>给我买杯咖啡，谢谢！</center>\n",
    "<hr>"
   ]
  },
  {
   "cell_type": "markdown",
   "id": "26786ea3-e294-44b6-900a-798b0880de76",
   "metadata": {
    "tags": []
   },
   "source": [
    "## ```Conda``` <span style=\"color:#ff7171; font-size: 14px;\">安装部署（第一次部署环境需要几分钟，请耐心等待！后面无需再运行此单元，除非你想删除此笔记本）</span>"
   ]
  },
  {
   "cell_type": "code",
   "execution_count": null,
   "id": "2d3e396f-46be-4809-8605-031de38bf8b4",
   "metadata": {
    "tags": [],
    "vscode": {
     "languageId": "python"
    }
   },
   "outputs": [],
   "source": [
    "!curl -sLo ~/.conda/conda_install.py https://github.com/Firetheft/segsmaker/raw/main/script/conda3.py\n",
    "%run ~/.conda/conda_install.py"
   ]
  },
  {
   "cell_type": "markdown",
   "id": "011fac09-3453-4fea-bad6-da971f037c3b",
   "metadata": {
    "tags": []
   },
   "source": [
    "## ```ComfyUI``` <span style=\"color:#ff7171; font-size: 14px;\">安装部署（第一次部署环境需要几分钟，请耐心等待！后面无需再运行此单元，除非你无法正常运行ComfyUI）</span>"
   ]
  },
  {
   "cell_type": "code",
   "execution_count": null,
   "id": "598827fd-7cf0-4d73-b982-c417916b7e96",
   "metadata": {
    "tags": [],
    "vscode": {
     "languageId": "python"
    }
   },
   "outputs": [],
   "source": [
    "%say 【{red} Installing ComfyUI {d} 】{red}\n",
    "%cd -q ~\n",
    "!git clone -q https://github.com/comfyanonymous/ComfyUI\n",
    "\n",
    "%cd -q ~/ComfyUI\n",
    "!pip install -q https://download.pytorch.org/whl/cu118/xformers-0.0.22.post4%2Bcu118-cp310-cp310-manylinux2014_x86_64.whl \\\n",
    "-r requirements.txt --extra-index-url https://download.pytorch.org/whl/cu118\n",
    "%pull https://github.com/Firetheft/segsmaker cui ~/ComfyUI\n",
    "%download ~/ComfyUI/asd/cui.txt\n",
    "!python ~/ComfyUI/asd/cui.py > /dev/null\n",
    "\n",
    "''' Custom Nodes '''\n",
    "%say 【{red} Installing Custom Nodes {d} 】{red}\n",
    "%cd -q ~/ComfyUI/custom_nodes\n",
    "%clone ~/ComfyUI/asd/custom_nodes.txt\n",
    "%download ~/ComfyUI/asd/custom_nodes_models.txt\n",
    "# add custom nodes here !git clone URL\n",
    "\n",
    "#%cd -q ~/ComfyUI/custom_nodes/ComfyUI-AniPortrait\n",
    "#!pip install -r requirements.txt\n",
    "\n",
    "%cd -q ~/ComfyUI\n",
    "!pip install -q opencv-python==4.7.0.72 transformers==4.26.1 tokenizers clip-interrogator\n",
    "![ -f \"custom_nodes/ComfyUI-Manager/scripts/colab-dependencies.py\" ] && python \"custom_nodes/ComfyUI-Manager/scripts/colab-dependencies.py\" > /dev/null\n",
    "!rm -rf ~/.cache/* ~/ComfyUI/custom_nodes/~\n",
    "%say 【{red} Done {d} 】{red}"
   ]
  },
  {
   "cell_type": "markdown",
   "id": "4de9b075",
   "metadata": {},
   "source": [
    "## ```AniPortrait模型``` <span style=\"color:#ff7171; font-size: 14px;\">临时文件，不使用AniPortrait请勿运行</span>"
   ]
  },
  {
   "cell_type": "code",
   "execution_count": null,
   "id": "31e3c3ec",
   "metadata": {
    "vscode": {
     "languageId": "python"
    }
   },
   "outputs": [],
   "source": [
    "''' 常驻模型 '''\n",
    "!mkdir /home/studio-lab-user/ComfyUI/models/stable-diffusion-v1-5\n",
    "%cd -q ~/ComfyUI/models/stable-diffusion-v1-5\n",
    "%download https://huggingface.co/runwayml/stable-diffusion-v1-5/resolve/main/model_index.json model_index.json\n",
    "%download https://huggingface.co/runwayml/stable-diffusion-v1-5/resolve/main/v1-inference.yaml v1-inference.yaml\n",
    "!mkdir /home/studio-lab-user/ComfyUI/models/stable-diffusion-v1-5/feature_extractor\n",
    "%cd -q ~/ComfyUI/models/stable-diffusion-v1-5/feature_extractor\n",
    "%download https://huggingface.co/runwayml/stable-diffusion-v1-5/resolve/main/feature_extractor/preprocessor_config.json preprocessor_config.json\n",
    "!mkdir /home/studio-lab-user/ComfyUI/models/stable-diffusion-v1-5/unet\n",
    "%cd -q ~/ComfyUI/models/stable-diffusion-v1-5/unet\n",
    "%download https://huggingface.co/runwayml/stable-diffusion-v1-5/resolve/main/unet/config.json config.json\n",
    "%download https://huggingface.co/runwayml/stable-diffusion-v1-5/resolve/main/unet/diffusion_pytorch_model.bin diffusion_pytorch_model.bin\n",
    "%download https://huggingface.co/runwayml/stable-diffusion-v1-5/resolve/main/unet/diffusion_pytorch_model.fp16.bin diffusion_pytorch_model.fp16.bin"
   ]
  },
  {
   "cell_type": "code",
   "execution_count": null,
   "id": "8ed45bd5",
   "metadata": {
    "vscode": {
     "languageId": "python"
    }
   },
   "outputs": [],
   "source": [
    "''' 临时模型 '''\n",
    "%tempe\n",
    "!mkdir -p ~/tmp/diffusers\n",
    "!mkdir -p ~/ComfyUI/models/diffusers\n",
    "%cd -q ~/ComfyUI/models/diffusers\n",
    "!git clone https://huggingface.co/ZJYang/AniPortrait\n",
    "!git clone https://huggingface.co/stabilityai/sd-vae-ft-mse\n",
    "!git clone https://huggingface.co/facebook/wav2vec2-base-960h\n",
    "!mkdir -p ~/tmp/diffusers/image_encoder\n",
    "!mkdir -p ~/ComfyUI/models/diffusers/image_encoder\n",
    "%cd -q ~/ComfyUI/models/diffusers/image_encoder\n",
    "%download https://huggingface.co/lambdalabs/sd-image-variations-diffusers/resolve/main/image_encoder/config.json config.json\n",
    "%download https://huggingface.co/lambdalabs/sd-image-variations-diffusers/resolve/main/image_encoder/pytorch_model.bin pytorch_model.bin"
   ]
  },
  {
   "cell_type": "markdown",
   "id": "c8d5d6aa-8dc8-46af-8aa5-785b25d68ae7",
   "metadata": {
    "tags": []
   },
   "source": [
    "## ```ControlNET``` <span style=\"color:#ff7171; font-size: 14px;\">临时文件</span>"
   ]
  },
  {
   "cell_type": "markdown",
   "id": "de5da00c",
   "metadata": {},
   "source": [
    "#### ```SDXL``` <span style=\"color:#ff7171; font-size: 14px;\">按需求下载</span>"
   ]
  },
  {
   "cell_type": "code",
   "execution_count": null,
   "id": "c7a1bfea-7691-4a1c-b290-1ef58c87cee1",
   "metadata": {
    "tags": [],
    "vscode": {
     "languageId": "python"
    }
   },
   "outputs": [],
   "source": [
    "%tempe\n",
    "%cd -q ~/ComfyUI/models/controlnet\n",
    "%run ~/ComfyUI/asd/controlnet_sdxl.py"
   ]
  },
  {
   "cell_type": "markdown",
   "id": "ca43ef9b",
   "metadata": {},
   "source": [
    "#### ```SD15``` <span style=\"color:#ff7171; font-size: 14px;\">按需求下载</span>"
   ]
  },
  {
   "cell_type": "code",
   "execution_count": null,
   "id": "0f41973d",
   "metadata": {
    "vscode": {
     "languageId": "python"
    }
   },
   "outputs": [],
   "source": [
    "%tempe\n",
    "%cd -q ~/ComfyUI/models/controlnet\n",
    "%run ~/ComfyUI/asd/controlnet_sd15.py"
   ]
  },
  {
   "cell_type": "markdown",
   "id": "e1686fb4-1cf7-4abf-bdef-f742beb84e0c",
   "metadata": {
    "tags": []
   },
   "source": [
    "## *Checkpoint* <span style=\"color:#ff7171; font-size: 14px;\">临时文件</span>"
   ]
  },
  {
   "cell_type": "code",
   "execution_count": null,
   "id": "58cad0c8-1007-499f-a5a5-bb2b028288c1",
   "metadata": {
    "tags": [],
    "vscode": {
     "languageId": "python"
    }
   },
   "outputs": [],
   "source": [
    "''' 常驻模型（空间有限建议一个就行） '''\n",
    "%cd -q ~/ComfyUI/models/checkpoints\n",
    "#%download https://huggingface.co/RunDiffusion/Juggernaut-XL-v9/resolve/main/Juggernaut-XL_v9_RunDiffusionPhoto_v2.safetensors juggernautXL_v9Rundiffusionphoto2.safetensors\n",
    "\n",
    "''' 临时模型 '''\n",
    "%tempe\n",
    "%cd -q ~/ComfyUI/models/checkpoints\n",
    "#写实模型\n",
    "%download https://civitai.com/api/download/models/344398 photonLCM_v10.safetensors\n",
    "#%download https://civitai.com/api/download/models/176425 majicmixRealistic_v7.safetensors\n",
    "#%download https://huggingface.co/RunDiffusion/Juggernaut-XL-v6/resolve/main/juggernautXL_version6Rundiffusion.safetensors juggernautXL_version6Rundiffusion.safetensors\n",
    "#%download https://huggingface.co/RunDiffusion/Juggernaut-XL-v7/resolve/main/juggernautXL_v7Rundiffusion.safetensors juggernautXL_v7Rundiffusion.safetensors\n",
    "#%download https://huggingface.co/RunDiffusion/Juggernaut-XL-v8/resolve/main/juggernautXL_v8Rundiffusion.safetensors juggernautXL_v8Rundiffusion.safetensors\n",
    "#%download https://huggingface.co/RunDiffusion/Juggernaut-XL-v9/resolve/main/Juggernaut-XL_v9_RunDiffusionPhoto_v2.safetensors juggernautXL_v9Rundiffusionphoto2.safetensors\n",
    "#%download https://huggingface.co/RunDiffusion/Juggernaut-XL-Lightning/resolve/main/Juggernaut_RunDiffusionPhoto2_Lightning_4Steps.safetensors Juggernaut_RunDiffusionPhoto2_Lightning_4Steps.safetensors\n",
    "#动漫模型\n",
    "#%download https://civitai.com/api/download/models/295158 animaPencilXL_v100.safetensors\n",
    "#%download https://civitai.com/api/download/models/323674 animaPencilXL_v150.safetensors\n",
    "#%download https://civitai.com/api/download/models/370033 animaPencilXL_v200.safetensors\n",
    "#SUPIR放大模型\n",
    "#%download https://huggingface.co/Kijai/SUPIR_pruned/resolve/main/SUPIR-v0F_fp16.safetensors SUPIR-v0F_fp16.safetensors\n",
    "#%download https://huggingface.co/Kijai/SUPIR_pruned/resolve/main/SUPIR-v0Q_fp16.safetensors SUPIR-v0Q_fp16.safetensors\n",
    "#StableSR放大模型\n",
    "#%download https://huggingface.co/Iceclear/StableSR/resolve/main/stablesr_768v_000139.ckpt stablesr_768v_000139.ckpt"
   ]
  },
  {
   "cell_type": "markdown",
   "id": "8bc20e56-9ba4-48ac-bdfc-17179a747ee8",
   "metadata": {
    "tags": []
   },
   "source": [
    "## *Lora* <span style=\"color:#ff7171; font-size: 14px;\">临时文件</span>"
   ]
  },
  {
   "cell_type": "code",
   "execution_count": null,
   "id": "936784d0-67c8-442c-aa3a-ee3456f8f4bb",
   "metadata": {
    "tags": [],
    "vscode": {
     "languageId": "python"
    }
   },
   "outputs": [],
   "source": [
    "''' 常驻Lora '''\n",
    "%cd -q ~/ComfyUI/models/loras\n",
    "#%download https://huggingface.co/stabilityai/stable-diffusion-xl-base-1.0/resolve/main/sd_xl_offset_example-lora_1.0.safetensors sd_xl_offset_example-lora_1.0.safetensors\n",
    "#%download https://huggingface.co/disambo/segsmaker/resolve/main/%E6%9E%97%E9%B9%A4-%E7%9A%AE%E8%82%A4%E8%B4%A8%E6%84%9F%E8%B0%83%E6%95%B4%E5%99%A8-%E5%B7%AE%E5%BC%82%E7%82%BC%E4%B8%B9%E5%8A%9F%E8%83%BD%E6%80%A7lora%E6%A8%A1%E5%9E%8B_%E6%9E%97%E9%B9%A4v1.safetensors 林鹤-皮肤质感调整器-差异炼丹功能性lora模型_林鹤v1.safetensors\n",
    "\n",
    "''' 临时Lora '''\n",
    "%tempe\n",
    "%cd -q ~/ComfyUI/models/loras\n",
    "%download https://huggingface.co/wangfuyun/AnimateLCM/resolve/main/AnimateLCM_sd15_t2v_lora.safetensors AnimateLCM_sd15_t2v_lora.safetensors\n",
    "%download https://civitai.com/api/download/models/109350 bluetheme_skywater.safetensors\n",
    "#%download https://huggingface.co/disambo/segsmaker/resolve/main/%E6%9E%97%E9%B9%A4-%E7%9A%AE%E8%82%A4%E8%B4%A8%E6%84%9F%E8%B0%83%E6%95%B4%E5%99%A8-%E5%B7%AE%E5%BC%82%E7%82%BC%E4%B8%B9%E5%8A%9F%E8%83%BD%E6%80%A7lora%E6%A8%A1%E5%9E%8B_%E6%9E%97%E9%B9%A4v1.safetensors 林鹤-皮肤质感调整器-差异炼丹功能性lora模型_林鹤v1.safetensors\n",
    "#%download https://huggingface.co/Linaqruf/style-enhancer-xl-lora/resolve/main/style-enhancer-xl.safetensors style-enhancer-xl.safetensors\n",
    "#%download https://huggingface.co/Linaqruf/anime-detailer-xl-lora/resolve/main/anime-detailer-xl.safetensors anime-detailer-xl.safetensors"
   ]
  },
  {
   "cell_type": "markdown",
   "id": "00824d63",
   "metadata": {},
   "source": [
    "## *Vae* <span style=\"color:#ff7171; font-size: 14px;\">临时文件</span>"
   ]
  },
  {
   "cell_type": "code",
   "execution_count": null,
   "id": "e1a6f665",
   "metadata": {
    "vscode": {
     "languageId": "python"
    }
   },
   "outputs": [],
   "source": [
    "''' 临时vae '''\n",
    "%tempe\n",
    "%cd -q ~/ComfyUI/models/vae\n",
    "#%download https://huggingface.co/disambo/segsmaker/resolve/main/animevae.pt animevae.pt\n",
    "%download https://huggingface.co/stabilityai/sd-vae-ft-mse-original/resolve/main/vae-ft-mse-840000-ema-pruned.safetensors vae-ft-mse-840000-ema-pruned.safetensors"
   ]
  },
  {
   "cell_type": "markdown",
   "id": "b4b19ba2-ae2b-481b-9b39-be6eac7a0f77",
   "metadata": {
    "tags": []
   },
   "source": [
    "## Run ComfyUI"
   ]
  },
  {
   "cell_type": "code",
   "execution_count": null,
   "id": "cb946c30-02d4-4ca3-9c52-2201b3ce705e",
   "metadata": {
    "tags": [],
    "vscode": {
     "languageId": "python"
    }
   },
   "outputs": [],
   "source": [
    "''' run this cell once to install ZROK and register an account '''\n",
    "%cd -q ~\n",
    "!python ~/ComfyUI/asd/zorok.py"
   ]
  },
  {
   "cell_type": "code",
   "execution_count": null,
   "id": "4cffd230-2fd0-49b2-a91d-eb5b826be801",
   "metadata": {
    "tags": [],
    "vscode": {
     "languageId": "python"
    }
   },
   "outputs": [],
   "source": [
    "token = \"YOUR_ZROK_TOKEN\"\n",
    "\n",
    "%cd -q ~/ComfyUI\n",
    "!python zrun.py {token} --dont-print-server --preview-method auto --use-pytorch-cross-attention"
   ]
  },
  {
   "cell_type": "code",
   "execution_count": null,
   "id": "a84f33cd-684e-4dce-a3c5-3f285625c065",
   "metadata": {
    "vscode": {
     "languageId": "python"
    }
   },
   "outputs": [],
   "source": [
    "token = \"YOUR_NGROK_TOKEN\"\n",
    "\n",
    "%cd -q ~/ComfyUI\n",
    "!python ngrun.py {token} --dont-print-server --preview-method auto --use-pytorch-cross-attention"
   ]
  },
  {
   "cell_type": "markdown",
   "id": "b321c948-5d0c-4f7d-9583-04a75b841e37",
   "metadata": {
    "jp-MarkdownHeadingCollapsed": true,
    "tags": []
   },
   "source": [
    "## Extras"
   ]
  },
  {
   "cell_type": "markdown",
   "id": "89f767e5-2ab8-41b0-81ed-8fda5af53342",
   "metadata": {
    "tags": []
   },
   "source": [
    "#### ```zip``` Output images"
   ]
  },
  {
   "cell_type": "code",
   "execution_count": null,
   "id": "e4136d67-2cb1-473e-b5bf-4d4f7ab16df8",
   "metadata": {
    "tags": [],
    "vscode": {
     "languageId": "python"
    }
   },
   "outputs": [],
   "source": [
    "%%zipping\n",
    "\n",
    "input_folder  = '/home/studio-lab-user/ComfyUI/output'\n",
    "output_folder = '/home/studio-lab-user'"
   ]
  },
  {
   "cell_type": "markdown",
   "id": "6b74f461-3a60-44fe-8d96-b6fe2f0105a5",
   "metadata": {
    "id": "bf5499c3-18fb-4325-8c37-5298751e4f97",
    "tags": []
   },
   "source": [
    "#### Storage"
   ]
  },
  {
   "cell_type": "code",
   "execution_count": null,
   "id": "fe9b41c3-932e-442c-9d5e-d43b83a8096d",
   "metadata": {
    "tags": [],
    "vscode": {
     "languageId": "python"
    }
   },
   "outputs": [],
   "source": [
    "''' Check Storage '''\n",
    "!rm -rf ~/.cache/*\n",
    "%storage /home/studio-lab-user"
   ]
  },
  {
   "cell_type": "code",
   "execution_count": null,
   "id": "9951220b-4c44-4e52-80db-9fe37ab3a6f2",
   "metadata": {
    "tags": [],
    "vscode": {
     "languageId": "python"
    }
   },
   "outputs": [],
   "source": [
    "''' Delete output images '''\n",
    "!rm -rf ~/ComfyUI/output/* ~/.cache/*"
   ]
  },
  {
   "cell_type": "code",
   "execution_count": null,
   "id": "66ad2fea-6aab-4768-a26b-d880eb046623",
   "metadata": {
    "tags": [],
    "vscode": {
     "languageId": "python"
    }
   },
   "outputs": [],
   "source": [
    "''' Delete ComfyUI '''\n",
    "%cd -q ~\n",
    "!rm -rf ~/tmp/* ~/ComfyUI ~/tmp ~/.cache/*"
   ]
  },
  {
   "cell_type": "code",
   "execution_count": null,
   "id": "9e058676-e9cc-4a39-aeae-c86852d44f5e",
   "metadata": {
    "tags": [],
    "vscode": {
     "languageId": "python"
    }
   },
   "outputs": [],
   "source": [
    "''' DELETE EVERYTHING , restart jupyterlab afterward '''\n",
    "%delete /home/studio-lab-user"
   ]
  }
 ],
 "metadata": {
  "kernelspec": {
   "display_name": "",
   "name": ""
  },
  "language_info": {
   "name": ""
  }
 },
 "nbformat": 4,
 "nbformat_minor": 5
}
